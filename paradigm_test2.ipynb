{
 "cells": [
  {
   "cell_type": "code",
   "execution_count": 41,
   "id": "f481b278",
   "metadata": {},
   "outputs": [],
   "source": [
    "import os\n",
    "import ipywidgets as widgets\n",
    "from ipywidgets import Layout\n",
    "import zipfile as zf\n",
    "import nrrd\n",
    "import nibabel as nib\n",
    "import numpy as np"
   ]
  },
  {
   "cell_type": "code",
   "execution_count": 48,
   "id": "4bd9df45",
   "metadata": {},
   "outputs": [
    {
     "data": {
      "application/vnd.jupyter.widget-view+json": {
       "model_id": "f0ef020df3b343aa98cf1d17f0148767",
       "version_major": 2,
       "version_minor": 0
      },
      "text/plain": [
       "FileUpload(value={})"
      ]
     },
     "metadata": {},
     "output_type": "display_data"
    },
    {
     "data": {
      "application/vnd.jupyter.widget-view+json": {
       "model_id": "cdefb71871a349daabefedf090bcb43e",
       "version_major": 2,
       "version_minor": 0
      },
      "text/plain": [
       "FileUpload(value={}, accept='.nrrd', description='.nrrd')"
      ]
     },
     "metadata": {},
     "output_type": "display_data"
    },
    {
     "data": {
      "application/vnd.jupyter.widget-view+json": {
       "model_id": "59b30e3b3012465aa8bd98e37bf76c0c",
       "version_major": 2,
       "version_minor": 0
      },
      "text/plain": [
       "FileUpload(value={}, accept='.zip', description='.zip')"
      ]
     },
     "metadata": {},
     "output_type": "display_data"
    },
    {
     "data": {
      "application/vnd.jupyter.widget-view+json": {
       "model_id": "46a10e59cc074663b456776cef2ac441",
       "version_major": 2,
       "version_minor": 0
      },
      "text/plain": [
       "FileUpload(value={}, accept='.gz', description='.gz')"
      ]
     },
     "metadata": {},
     "output_type": "display_data"
    },
    {
     "data": {
      "application/vnd.jupyter.widget-view+json": {
       "model_id": "2b9f4ddcf557454b8801ae1eb4e92816",
       "version_major": 2,
       "version_minor": 0
      },
      "text/plain": [
       "FileUpload(value={}, accept='.nii', description='.nii')"
      ]
     },
     "metadata": {},
     "output_type": "display_data"
    },
    {
     "data": {
      "application/vnd.jupyter.widget-view+json": {
       "model_id": "1525f7b157c146d8927193233a5f1896",
       "version_major": 2,
       "version_minor": 0
      },
      "text/plain": [
       "FileUpload(value={}, accept='.txt', description='.txt')"
      ]
     },
     "metadata": {},
     "output_type": "display_data"
    }
   ],
   "source": [
    "file_types = ['','.nrrd','.zip','.gz','.nii','.txt']\n",
    "uploaders = []\n",
    "for ft in file_types:\n",
    "    uploaders.append(widgets.FileUpload(accept=ft, multiple=False, description=ft))\n",
    "for up in uploaders:\n",
    "    display(up)"
   ]
  },
  {
   "cell_type": "code",
   "execution_count": 47,
   "id": "19706154",
   "metadata": {},
   "outputs": [],
   "source": [
    "def print_file_name(uploader):\n",
    "    print(uploader.value.keys())\n",
    "\n",
    "def nrrd_file(uploader):\n",
    "    filename = list(uploader.value.keys())[0]\n",
    "    nrrd_matrix, nrrd_data = nrrd.read(filename, index_order='C')\n",
    "    print(np.shape(nrrd_matrix))\n",
    "\n",
    "def gz_file(uploader):\n",
    "    filename = list(uploader.value.keys())[0]\n",
    "    nii_matrix = nib.load(filename).get_fdata()\n",
    "    print(np.shape(nii_matrix))\n",
    "    \n",
    "def nii_file(uploader):\n",
    "    filename = list(uploader.value.keys())[0]\n",
    "    nii_matrix = nib.load(filename).get_fdata()\n",
    "    print(np.shape(nii_matrix))\n",
    "    \n",
    "def zip_file(uploader):\n",
    "    filename = list(uploader.value.keys())[0]\n",
    "    files = zf.ZipFile(filename, 'r')\n",
    "    files.extractall(files)\n",
    "    files.close()\n",
    "\n",
    "file_type_actions = {'':print_file_name,'.nrrd':nrrd_file,'.nii':nii_file,'.zip':zip_file,'.gz':gz_file,'.txt':print_file_name}"
   ]
  },
  {
   "cell_type": "code",
   "execution_count": 50,
   "id": "37ef4fb2",
   "metadata": {},
   "outputs": [
    {
     "data": {
      "application/vnd.jupyter.widget-view+json": {
       "model_id": "f6517ca5cddf437e9bf230aa206eda6d",
       "version_major": 2,
       "version_minor": 0
      },
      "text/plain": [
       "Button(description='Test', style=ButtonStyle())"
      ]
     },
     "metadata": {},
     "output_type": "display_data"
    },
    {
     "data": {
      "application/vnd.jupyter.widget-view+json": {
       "model_id": "153f16105b7242e4a13476dbfc267cb3",
       "version_major": 2,
       "version_minor": 0
      },
      "text/plain": [
       "Output()"
      ]
     },
     "metadata": {},
     "output_type": "display_data"
    }
   ],
   "source": [
    "action_button = widgets.Button(description=\"Test\")\n",
    "filename_output = widgets.Output()\n",
    "\n",
    "display(action_button, filename_output)\n",
    "\n",
    "def on_action_button_clicked(b):\n",
    "    with filename_output:\n",
    "        for up in uploaders:\n",
    "            if len(up.value) == 0:\n",
    "                print(\"Uploader \"+up.description+\" didn't recieve files.\")\n",
    "            else:\n",
    "                file_type_actions[up.description](up)\n",
    "\n",
    "action_button.on_click(on_action_button_clicked)"
   ]
  },
  {
   "cell_type": "code",
   "execution_count": null,
   "id": "1d8c4f4b",
   "metadata": {},
   "outputs": [],
   "source": []
  }
 ],
 "metadata": {
  "kernelspec": {
   "display_name": "Python 3",
   "language": "python",
   "name": "python3"
  },
  "language_info": {
   "codemirror_mode": {
    "name": "ipython",
    "version": 3
   },
   "file_extension": ".py",
   "mimetype": "text/x-python",
   "name": "python",
   "nbconvert_exporter": "python",
   "pygments_lexer": "ipython3",
   "version": "3.8.5"
  }
 },
 "nbformat": 4,
 "nbformat_minor": 5
}
