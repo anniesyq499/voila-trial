{
 "cells": [
  {
   "cell_type": "code",
   "execution_count": 41,
   "id": "41a22461",
   "metadata": {},
   "outputs": [],
   "source": [
    "import os\n",
    "import ipywidgets as widgets\n",
    "from ipywidgets import Layout\n",
    "import zipfile as zf\n",
    "import nrrd\n",
    "import nibabel as nib\n",
    "import numpy as np"
   ]
  },
  {
   "cell_type": "code",
   "execution_count": 34,
   "id": "6e2c79db",
   "metadata": {},
   "outputs": [
    {
     "data": {
      "application/vnd.jupyter.widget-view+json": {
       "model_id": "f7e2658ae8db409d8a237d4082eb75dd",
       "version_major": 2,
       "version_minor": 0
      },
      "text/plain": [
       "FileUpload(value={})"
      ]
     },
     "metadata": {},
     "output_type": "display_data"
    },
    {
     "data": {
      "application/vnd.jupyter.widget-view+json": {
       "model_id": "cdcfe532552d41b89fdc3c5f3dddc7ce",
       "version_major": 2,
       "version_minor": 0
      },
      "text/plain": [
       "FileUpload(value={}, accept='.nrrd', description='.nrrd')"
      ]
     },
     "metadata": {},
     "output_type": "display_data"
    },
    {
     "data": {
      "application/vnd.jupyter.widget-view+json": {
       "model_id": "cf2d99891bbc45e5858273051320350c",
       "version_major": 2,
       "version_minor": 0
      },
      "text/plain": [
       "FileUpload(value={}, accept='.zip', description='.zip')"
      ]
     },
     "metadata": {},
     "output_type": "display_data"
    },
    {
     "data": {
      "application/vnd.jupyter.widget-view+json": {
       "model_id": "0541eb9aabf14327849a9b288d0d7202",
       "version_major": 2,
       "version_minor": 0
      },
      "text/plain": [
       "FileUpload(value={}, accept='.gz', description='.gz')"
      ]
     },
     "metadata": {},
     "output_type": "display_data"
    },
    {
     "data": {
      "application/vnd.jupyter.widget-view+json": {
       "model_id": "9f5e947729674c02a531c0a83d9c50e3",
       "version_major": 2,
       "version_minor": 0
      },
      "text/plain": [
       "FileUpload(value={}, accept='.txt', description='.txt')"
      ]
     },
     "metadata": {},
     "output_type": "display_data"
    }
   ],
   "source": [
    "file_types = ['','.nrrd','.zip','.gz','.txt']\n",
    "uploaders = []\n",
    "for ft in file_types:\n",
    "    uploaders.append(widgets.FileUpload(accept=ft, multiple=False, description=ft))\n",
    "for up in uploaders:\n",
    "    display(up)"
   ]
  },
  {
   "cell_type": "code",
   "execution_count": 42,
   "id": "7c3331e5",
   "metadata": {},
   "outputs": [],
   "source": [
    "def print_file_name(uploader):\n",
    "    print(uploader.value.keys())\n",
    "\n",
    "def nrrd_file(uploader):\n",
    "    filename = list(uploader.value.keys())[0]\n",
    "    nrrd_matrix, nrrd_data = nrrd.read(filename, index_order='C')\n",
    "    print(np.shape(nrrd_matrix))\n",
    "\n",
    "def gz_file(uploader):\n",
    "    filename = list(uploader.value.keys())[0]\n",
    "    nii_matrix = nib.load(filename).get_fdata()\n",
    "    print(np.shape(nii_matrix))\n",
    "    \n",
    "def zip_file(uploader):\n",
    "    filename = list(uploader.value.keys())[0]\n",
    "    files = zf.ZipFile(filename, 'r')\n",
    "    files.extractall(files)\n",
    "    files.close()\n",
    "\n",
    "file_type_actions = {'':print_file_name,'.nrrd':nrrd_file,'.zip':zip_file,'.gz':gz_file,'.txt':print_file_name}"
   ]
  },
  {
   "cell_type": "code",
   "execution_count": 45,
   "id": "6df49663",
   "metadata": {},
   "outputs": [
    {
     "data": {
      "application/vnd.jupyter.widget-view+json": {
       "model_id": "c7096917d0ba4da48147abaa52be2b92",
       "version_major": 2,
       "version_minor": 0
      },
      "text/plain": [
       "Button(description='Test', style=ButtonStyle())"
      ]
     },
     "metadata": {},
     "output_type": "display_data"
    },
    {
     "data": {
      "application/vnd.jupyter.widget-view+json": {
       "model_id": "10033d60b25541708dbf37d8c7ce1b93",
       "version_major": 2,
       "version_minor": 0
      },
      "text/plain": [
       "Output()"
      ]
     },
     "metadata": {},
     "output_type": "display_data"
    }
   ],
   "source": [
    "action_button = widgets.Button(description=\"Test\")\n",
    "filename_output = widgets.Output()\n",
    "\n",
    "display(action_button, filename_output)\n",
    "\n",
    "def on_action_button_clicked(b):\n",
    "    with filename_output:\n",
    "        for up in uploaders:\n",
    "            if len(up.value) == 0:\n",
    "                print(\"Uploader \"+up.description+\" didn't recieve files.\")\n",
    "            else:\n",
    "                file_type_actions[up.description](up)\n",
    "\n",
    "action_button.on_click(on_action_button_clicked)"
   ]
  },
  {
   "cell_type": "code",
   "execution_count": null,
   "id": "3f827502",
   "metadata": {},
   "outputs": [],
   "source": []
  }
 ],
 "metadata": {
  "kernelspec": {
   "display_name": "Python 3",
   "language": "python",
   "name": "python3"
  },
  "language_info": {
   "codemirror_mode": {
    "name": "ipython",
    "version": 3
   },
   "file_extension": ".py",
   "mimetype": "text/x-python",
   "name": "python",
   "nbconvert_exporter": "python",
   "pygments_lexer": "ipython3",
   "version": "3.8.5"
  }
 },
 "nbformat": 4,
 "nbformat_minor": 5
}
