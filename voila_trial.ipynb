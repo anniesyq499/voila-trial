{
 "cells": [
  {
   "cell_type": "code",
   "execution_count": 61,
   "metadata": {},
   "outputs": [],
   "source": [
    "import os\n",
    "import glob\n",
    "import ipywidgets as widgets"
   ]
  },
  {
   "cell_type": "code",
   "execution_count": 82,
   "metadata": {},
   "outputs": [],
   "source": [
    "dicom_dir_input = widgets.Text(\n",
    "    value='',\n",
    "    placeholder='Name of your compressed DICOM folder, end with .zip',\n",
    "    description='String:',\n",
    "    disabled=False,\n",
    "    layout=widgets.Layout(width='500px')\n",
    ")"
   ]
  },
  {
   "cell_type": "code",
   "execution_count": 83,
   "metadata": {},
   "outputs": [
    {
     "data": {
      "application/vnd.jupyter.widget-view+json": {
       "model_id": "f63a17f7d98c42b0a0a97ed3fa0e4218",
       "version_major": 2,
       "version_minor": 0
      },
      "text/plain": [
       "Text(value='', description='String:', layout=Layout(width='500px'), placeholder='Name of your compressed DICOM…"
      ]
     },
     "metadata": {},
     "output_type": "display_data"
    }
   ],
   "source": [
    "# widget to let the user enter the name of the dicom folder\n",
    "display(dicom_dir_input)"
   ]
  },
  {
   "cell_type": "code",
   "execution_count": 67,
   "metadata": {},
   "outputs": [],
   "source": [
    "\"\"\"\n",
    "# decompress dicom zip folder\n",
    "dicom_file_name = dicom_dir_input.value.split('.')[0]\n",
    "files = zf.ZipFile(dicom_dir_input.value, 'r')\n",
    "files.extractall(dicom_file_name)\n",
    "files.close()\n",
    "\n",
    "# read dicom file and generate .nii.gz file using SimpleITK image reader\n",
    "reader = sitk.ImageSeriesReader()\n",
    "tmp_name = reader.GetGDCMSeriesFileNames(os.path.join(dicom_file_name, str(dicom_file_name)))\n",
    "reader.SetFileNames(tmp_name)\n",
    "image = reader.Execute()\n",
    "sitk.WriteImage(image, dicom_file_name+'.nii.gz')\n",
    "\n",
    "# decompress nii.gz file to nii file\n",
    "with gzip.open(dicom_file_name+'.nii.gz', 'rb') as f_in:\n",
    "    with open(dicom_file_name+'.nii', 'wb') as f_out:\n",
    "        shutil.copyfileobj(f_in, f_out)\n",
    "\"\"\""
   ]
  },
  {
   "cell_type": "code",
   "execution_count": 70,
   "metadata": {},
   "outputs": [],
   "source": [
    "\"\"\"\n",
    "# feature extraction\n",
    "settings = {}\n",
    "settings['binWidth'] = 70\n",
    "settings['resampledPixelSpacing'] = [5,5,5]\n",
    "settings['interpolator'] = sitk.sitkNearestNeighbor\n",
    "settings['normalize'] = True\n",
    "extractor = featureextractor.RadiomicsFeatureExtractor(**settings)\n",
    "extractor.enableImageTypes(Original={}, LoG={\"sigma\" : [4.0]}, Wavelet={})\n",
    "\n",
    "\n",
    "# the parameters that are used in the final model\n",
    "modeling_params = ['RV','MIN','SGE','BSY','SPAP','PA','MDR','SPH','FLA','SA','RMS']\n",
    "# the function to compute final result using modeling_params\n",
    "def joint_lr_model(dic):\n",
    "    #P(PAH)=1/(EXP(-0.604*RV+0.11*MIN-0.16*SGE-0.226*BSY-1.897*SPAP-0.927*PA+0.748*MDR-0.614*SPH+0.306*FLA-0.036*SA-0.286*RMS+18.27)+1)\n",
    "    odd = -0.604*dic['RV']+0.11*dic['MIN']-0.16*dic['SGE']-0.226*dic['BSY']-1.897*dic['SPAP']-0.927*dic['PA']+0.748*dic['MDR']-0.614*dic['SPH']+0.306*dic['FLA']-0.036*dic['SA']-0.286*dic['RMS']+18.27\n",
    "    result = 1/exp(odd)+1\n",
    "    return result\n",
    "\n",
    "modeling_params_dic = {}\n",
    "# extract features from pa.nrrd file\n",
    "image_file = dicom_file_name+'.nii.gz'\n",
    "mask_file = dicom_file_name+'_pa101.nrrd'\n",
    "featureVector = extractor.execute(image_file, mask_file)\n",
    "for param_name in modeling_params:\n",
    "    if param_name in featureVector:\n",
    "        modeling_params_dic[param_name] = featureVector[param_name]\n",
    "        \n",
    "# extract features from mask-label.nrrd # 肺实质\n",
    "mask_file = dicom_file_name+'_mask-label.nrrd'\n",
    "featureVector2 = extractor.execute(image_file, mask_file)\n",
    "for param_name in modeling_params:\n",
    "    if param_name in featureVector2:\n",
    "        modeling_params_dic[param_name] = featureVector[param_name]\n",
    "\"\"\""
   ]
  },
  {
   "cell_type": "code",
   "execution_count": 80,
   "metadata": {},
   "outputs": [],
   "source": [
    "# modeling parameter dic\n",
    "modeling_features_dic = {\n",
    "    'RV':{'mean':41.8, 'std':9.527281401800353, 'unit':'mm', type:'user_input'},\n",
    "    'SPAP':{'mean':55.69090909090909, 'std':27.990175372001012, 'unit':'mmHg', type:'user_input'},\n",
    "    'PA':{'mean':3.2348636363636363, 'std':0.6519024463727505, 'unit':'cm', type:'user_input'},\n",
    "    'SA':{'name':'original_shape_SurfaceArea', 'mean':222388.73242990908, 'std':45253.3147554674, type:'mask_label'},\n",
    "    'FLA':{'name':'original_shape_Flatness', 'mean':0.5319147852954547, 'std':0.05120626560217771, type:'mask_label'},\n",
    "    'SPH':{'name':'original_shape_Sphericity', 'mean':0.4983680056863636, 'std':0.023067973310864284, type:'mask_label'},\n",
    "    'MIN':{'name':'original_firstorder_Minimum', 'mean':-0.3196264678863637, 'std':0.33672656523502387, type:'pa'},\n",
    "    'SGE':{'name':'original_gldm_SmallDependenceLowGrayLevelEmphasis', 'mean':0.08525043123181816, 'std':0.01827983682244386, type:'pa'},\n",
    "    'BSY':{'name':'original_ngtdm_Busyness','mean':1683.6258909918547,'std':5023.316178714534,type:'pa'},\n",
    "    'MDR':{'name':'original_shape_Maximum2DDiameterRow','mean':208.04910237636366,'std':27.00383979187061,type:'pa'},\n",
    "    'RMS':{'name':'original_firstorder_RootMeanSquared','mean':0.5434065142772727,'std':0.08810365068921959,type:'pa'}\n",
    "}"
   ]
  },
  {
   "cell_type": "code",
   "execution_count": 92,
   "metadata": {},
   "outputs": [],
   "source": [
    "# user input parameters\n",
    "rv_input = widgets.FloatText(\n",
    "    description='RV:',\n",
    "    disabled=False\n",
    ")\n",
    "rv_unit = widgets.Label('mm')\n",
    "rv_box = widgets.HBox([rv_input, rv_unit])\n",
    "\n",
    "\n",
    "spap_input = widgets.FloatText(\n",
    "    description='SPAP:',\n",
    "    disabled=False\n",
    ")\n",
    "spap_unit = widgets.Label('mmHg')\n",
    "spap_box = widgets.HBox([spap_input, spap_unit])\n",
    "\n",
    "\n",
    "pa_input = widgets.FloatText(\n",
    "    description='PA:',\n",
    "    disabled=False\n",
    ")\n",
    "pa_unit = widgets.Label('cm')\n",
    "pa_box = widgets.HBox([pa_input, pa_unit])\n",
    "\n",
    "boxes = [rv_box, spap_box, pa_box]\n",
    "\n",
    "for box in boxes:\n",
    "    display(box)"
   ]
  }
 ],
 "metadata": {
  "kernelspec": {
   "display_name": "Python 3",
   "language": "python",
   "name": "python3"
  },
  "language_info": {
   "codemirror_mode": {
    "name": "ipython",
    "version": 3
   },
   "file_extension": ".py",
   "mimetype": "text/x-python",
   "name": "python",
   "nbconvert_exporter": "python",
   "pygments_lexer": "ipython3",
   "version": "3.8.5"
  }
 },
 "nbformat": 4,
 "nbformat_minor": 4
}
