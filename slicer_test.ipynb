{
 "cells": [
  {
   "cell_type": "code",
   "execution_count": null,
   "id": "fd293680",
   "metadata": {},
   "outputs": [],
   "source": [
    "import JupyterNotebooksLib as slicernb\n",
    "import slicer\n",
    "import vtk, ctk\n",
    "from slicer.ScriptedLoadableModule import *\n",
    "from slicer.util import VTKObservationMixin\n",
    "from LungCTSegmenter import LungCTSegmenterLogic\n",
    "import os\n",
    "import glob\n",
    "import ipywidgets as widgets\n",
    "from ipywidgets import Layout\n",
    "import zipfile as zf\n",
    "import gzip\n",
    "import shutil\n",
    "from radiomics import featureextractor"
   ]
  },
  {
   "cell_type": "code",
   "execution_count": null,
   "id": "dee806e0",
   "metadata": {},
   "outputs": [],
   "source": [
    "# Set viewer size to 50% of screen size\n",
    "slicernb.AppWindow.setWindowSize(scale=0.5)"
   ]
  },
  {
   "cell_type": "code",
   "execution_count": 1,
   "id": "6e8cc36f",
   "metadata": {},
   "outputs": [],
   "source": [
    "nii_file = '45.nii'"
   ]
  },
  {
   "cell_type": "code",
   "execution_count": null,
   "id": "a2710aa5",
   "metadata": {},
   "outputs": [],
   "source": [
    "slicer.mrmlScene.Clear(0)\n",
    "inputVolumeNode = slicer.util.loadVolume(nii_file)"
   ]
  },
  {
   "cell_type": "code",
   "execution_count": null,
   "id": "0f206d98",
   "metadata": {},
   "outputs": [],
   "source": [
    "# Create new markers\n",
    "markupsRightLungNode = slicer.mrmlScene.AddNewNodeByClass(\"vtkMRMLMarkupsFiducialNode\")\n",
    "markupsRightLungNode.SetName(\"R\")\n",
    "markupsLeftLungNode = slicer.mrmlScene.AddNewNodeByClass(\"vtkMRMLMarkupsFiducialNode\")\n",
    "markupsLeftLungNode.SetName(\"L\")\n",
    "markupsTracheaNode = slicer.mrmlScene.AddNewNodeByClass(\"vtkMRMLMarkupsFiducialNode\")\n",
    "markupsTracheaNode.SetName(\"T\")"
   ]
  },
  {
   "cell_type": "code",
   "execution_count": null,
   "id": "d14ae02c",
   "metadata": {},
   "outputs": [],
   "source": [
    "# add six fiducials each right and left\n",
    "markupsRightLungNode.CreateDefaultDisplayNodes()\n",
    "markupsRightLungNode.AddFiducial(50.,48.,-173.)\n",
    "markupsRightLungNode.AddFiducial(96.,-2.,-173.)\n",
    "markupsRightLungNode.AddFiducial(92.,-47.,-173.)\n",
    "markupsRightLungNode.AddFiducial(47.,-22.,-52.)\n",
    "markupsRightLungNode.AddFiducial(86.,-22.,-128.)\n",
    "markupsRightLungNode.AddFiducial(104.,-22.,-189.)\n",
    "\n",
    "markupsLeftLungNode.CreateDefaultDisplayNodes()\n",
    "markupsLeftLungNode.AddFiducial(-100.,29.,-173.)\n",
    "markupsLeftLungNode.AddFiducial(-111.,-37.,-173.)\n",
    "markupsLeftLungNode.AddFiducial(-76.,-85.,-173.)\n",
    "markupsLeftLungNode.AddFiducial(-77.,22.,-55.)\n",
    "markupsLeftLungNode.AddFiducial(-100.,-22.,-123.)\n",
    "markupsLeftLungNode.AddFiducial(-119.,-22.,-127.)\n",
    "\n",
    "# add one fiducial \n",
    "markupsTracheaNode.CreateDefaultDisplayNodes()\n",
    "markupsTracheaNode.AddFiducial(-4.,-14.,-90.)"
   ]
  },
  {
   "cell_type": "code",
   "execution_count": null,
   "id": "45d7c210",
   "metadata": {},
   "outputs": [],
   "source": [
    "# setup for segmenter logic\n",
    "logic = LungCTSegmenterLogic()\n",
    "logic.removeTemporaryObjects()\n",
    "logic.rightLungFiducials = markupsRightLungNode\n",
    "logic.leftLungFiducials = markupsLeftLungNode\n",
    "logic.tracheaFiducials = markupsTracheaNode\n",
    "logic.inputVolume = inputVolumeNode\n",
    "\n",
    "logic.startSegmentation()\n",
    "logic.updateSegmentation()\n",
    "logic.applySegmentation()"
   ]
  },
  {
   "cell_type": "code",
   "execution_count": null,
   "id": "d6f34e71",
   "metadata": {},
   "outputs": [],
   "source": [
    "mask_label_path = os.path.join(cur_dir, nii_file[:-4]+'_mask-label.nrrd')\n",
    "slicer.util.saveNode(logic.outputSegmentation,mask_label_path)"
   ]
  },
  {
   "cell_type": "code",
   "execution_count": null,
   "id": "e1704dec",
   "metadata": {},
   "outputs": [],
   "source": [
    "# mask-label.nrrd file post processing\n",
    "nrrd_data, nrrd_header = nrrd.read(mask_label_path)\n",
    "nrrd_data[nrrd_data==2] = 1\n",
    "nrrd.write(mask_label_path, nrrd_data, nrrd_header)"
   ]
  }
 ],
 "metadata": {
  "kernelspec": {
   "display_name": "Python 3",
   "language": "python",
   "name": "python3"
  },
  "language_info": {
   "codemirror_mode": {
    "name": "ipython",
    "version": 3
   },
   "file_extension": ".py",
   "mimetype": "text/x-python",
   "name": "python",
   "nbconvert_exporter": "python",
   "pygments_lexer": "ipython3",
   "version": "3.8.5"
  }
 },
 "nbformat": 4,
 "nbformat_minor": 5
}
