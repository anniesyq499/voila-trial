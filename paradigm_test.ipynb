{
 "cells": [
  {
   "cell_type": "code",
   "execution_count": 16,
   "id": "90786e90",
   "metadata": {},
   "outputs": [],
   "source": [
    "import os\n",
    "import ipywidgets as widgets\n",
    "from ipywidgets import Layout\n",
    "import zipfile as zf\n",
    "import shutil\n",
    "import SimpleITK as sitk\n",
    "import math\n",
    "from radiomics import featureextractor"
   ]
  },
  {
   "cell_type": "code",
   "execution_count": 3,
   "id": "109fd983",
   "metadata": {},
   "outputs": [],
   "source": [
    "dicom_name_filler = widgets.Text(\n",
    "    value='',\n",
    "    placeholder = 'Name of your comparessed DICOM folder, end with .zip',\n",
    "    description = 'DICOM: ',\n",
    "    disabled = False,\n",
    "    layout = widgets.Layout(width='500px')\n",
    ")\n",
    "dicom_file_uploader = widgets.FileUpload(\n",
    "    accept='.zip',  \n",
    "    multiple=False\n",
    ")"
   ]
  },
  {
   "cell_type": "code",
   "execution_count": 4,
   "id": "9cccdef9",
   "metadata": {},
   "outputs": [
    {
     "data": {
      "application/vnd.jupyter.widget-view+json": {
       "model_id": "75094de8c3bd4eaf8988d320e9edbd66",
       "version_major": 2,
       "version_minor": 0
      },
      "text/plain": [
       "Text(value='', description='DICOM: ', layout=Layout(width='500px'), placeholder='Name of your comparessed DICO…"
      ]
     },
     "metadata": {},
     "output_type": "display_data"
    }
   ],
   "source": [
    "display(dicom_name_filler)"
   ]
  },
  {
   "cell_type": "code",
   "execution_count": 5,
   "id": "de085984",
   "metadata": {},
   "outputs": [
    {
     "data": {
      "application/vnd.jupyter.widget-view+json": {
       "model_id": "5db3065f61e240e58cbb8ae841f93824",
       "version_major": 2,
       "version_minor": 0
      },
      "text/plain": [
       "FileUpload(value={}, accept='.zip', description='Upload')"
      ]
     },
     "metadata": {},
     "output_type": "display_data"
    }
   ],
   "source": [
    "display(dicom_file_uploader)"
   ]
  },
  {
   "cell_type": "code",
   "execution_count": 18,
   "id": "e84d4f98",
   "metadata": {},
   "outputs": [],
   "source": [
    "modeling_features_dic = {\n",
    "    'RV':{'mean':41.8, 'std':9.527281401800353, 'unit':'mm', 'type':'user_input'},\n",
    "    'SPAP':{'mean':55.69090909090909, 'std':27.990175372001012, 'unit':'mmHg', 'type':'user_input'},\n",
    "    'PA':{'mean':3.2348636363636363, 'std':0.6519024463727505, 'unit':'cm', 'type':'user_input'},\n",
    "    'SA':{'name':'original_shape_SurfaceArea', 'mean':222388.73242990908, 'std':45253.3147554674, 'type':'mask_label'},\n",
    "    'FLA':{'name':'original_shape_Flatness', 'mean':0.5319147852954547, 'std':0.05120626560217771, 'type':'mask_label'},\n",
    "    'SPH':{'name':'original_shape_Sphericity', 'mean':0.4983680056863636, 'std':0.023067973310864284, 'type':'mask_label'},\n",
    "    'MIN':{'name':'original_firstorder_Minimum', 'mean':-0.3196264678863637, 'std':0.33672656523502387, 'type':'pa'},\n",
    "    'SGE':{'name':'original_gldm_SmallDependenceLowGrayLevelEmphasis', 'mean':0.08525043123181816, 'std':0.01827983682244386, 'type':'pa'},\n",
    "    'BSY':{'name':'original_ngtdm_Busyness','mean':1683.6258909918547,'std':5023.316178714534,'type':'pa'},\n",
    "    'MDR':{'name':'original_shape_Maximum2DDiameterRow','mean':208.04910237636366,'std':27.00383979187061,'type':'pa'},\n",
    "    'RMS':{'name':'original_firstorder_RootMeanSquared','mean':0.5434065142772727,'std':0.08810365068921959,'type':'pa'}\n",
    "}\n",
    "\n",
    "# feature extraction\n",
    "settings = {}\n",
    "settings['binWidth'] = 70\n",
    "settings['resampledPixelSpacing'] = [5,5,5]\n",
    "settings['interpolator'] = sitk.sitkNearestNeighbor\n",
    "settings['normalize'] = True\n",
    "extractor = featureextractor.RadiomicsFeatureExtractor(**settings)\n",
    "extractor.enableImageTypes(Original={})\n",
    "\n",
    "# the function to compute final result using modeling_params\n",
    "def joint_lr_model(dic):\n",
    "    #P(PAH)=1/(EXP(-0.604*RV+0.11*MIN-0.16*SGL-0.226*BSY-1.897*SPAP-0.927*PA+0.748*MDR-0.614*SPH+0.306*FLA-0.036*SA-0.286*RMS+18.27)+1)\n",
    "    odd = -0.604*dic['RV']+0.11*dic['MIN']-0.16*dic['SGE']-0.226*dic['BSY']-1.897*dic['SPAP']-0.927*dic['PA']+0.748*dic['MDR']-0.614*dic['SPH']+0.306*dic['FLA']-0.036*dic['SA']-0.286*dic['RMS']+18.27\n",
    "    result = 1/(math.exp(odd)+1)\n",
    "    return result\n",
    "\n",
    "# normalize all features using modeling_features_dic before computing the final modeling result\n",
    "def normalize_features(cur_features_dic, modeling_features_dic):\n",
    "    for feature in cur_features_dic:\n",
    "        tmp = (cur_features_dic[feature] - modeling_features_dic[feature]['mean'])/modeling_features_dic[feature]['std']\n",
    "        cur_features_dic[feature] = tmp\n",
    "    return cur_features_dic"
   ]
  },
  {
   "cell_type": "code",
   "execution_count": 10,
   "id": "5f82945a",
   "metadata": {},
   "outputs": [
    {
     "data": {
      "application/vnd.jupyter.widget-view+json": {
       "model_id": "79ba25482209497493fcb2cf5b35bf59",
       "version_major": 2,
       "version_minor": 0
      },
      "text/plain": [
       "HBox(children=(FloatText(value=0.0, description='RV:'), Label(value='mm')))"
      ]
     },
     "metadata": {},
     "output_type": "display_data"
    },
    {
     "data": {
      "application/vnd.jupyter.widget-view+json": {
       "model_id": "5c7321a3e7dd4a388bf0079fa4889e4d",
       "version_major": 2,
       "version_minor": 0
      },
      "text/plain": [
       "HBox(children=(FloatText(value=0.0, description='SPAP:'), Label(value='mmHg')))"
      ]
     },
     "metadata": {},
     "output_type": "display_data"
    },
    {
     "data": {
      "application/vnd.jupyter.widget-view+json": {
       "model_id": "b7345298b63444baa2b9d4e8d7ee4432",
       "version_major": 2,
       "version_minor": 0
      },
      "text/plain": [
       "HBox(children=(FloatText(value=0.0, description='PA:'), Label(value='cm')))"
      ]
     },
     "metadata": {},
     "output_type": "display_data"
    }
   ],
   "source": [
    "ct_indices_boxes = []\n",
    "for feature in modeling_features_dic:\n",
    "    if modeling_features_dic[feature]['type'] == 'user_input':\n",
    "        val = widgets.FloatText(description=feature+':', disabled=False)\n",
    "        unit = widgets.Label(modeling_features_dic[feature]['unit'])\n",
    "        box = widgets.HBox([val, unit])\n",
    "        ct_indices_boxes.append(box)\n",
    "for box in ct_indices_boxes:\n",
    "    display(box)"
   ]
  },
  {
   "cell_type": "code",
   "execution_count": 19,
   "id": "c0302043",
   "metadata": {},
   "outputs": [],
   "source": [
    "action_button = widgets.Button(\n",
    "    description='Compute Result',\n",
    "    disabled=False,\n",
    "    button_style='',\n",
    "    icon='check'\n",
    ")\n",
    "result_text = widgets.Text(\n",
    "    value='',\n",
    "    placeholder = 'Computed Result Probability',\n",
    "    description = 'Probability: ',\n",
    "    disabled = False,\n",
    "    layout = widgets.Layout(width='500px')\n",
    ")"
   ]
  },
  {
   "cell_type": "code",
   "execution_count": 23,
   "id": "77a7a17b",
   "metadata": {},
   "outputs": [],
   "source": [
    "def on_button_click():\n",
    "    # decompress uploaded zip file\n",
    "    dicom_file_name = dicom_name_filler.value.split('.')[0]\n",
    "    files = zf.ZipFile(dicom_file_name, 'r')\n",
    "    files.extractall(dicom_file_name)\n",
    "    files.close()\n",
    "\n",
    "    # read dicom file and generate .nii.gz file using SimpleITK image reader\n",
    "    reader = sitk.ImageSeriesReader()\n",
    "    tmp_name = reader.GetGDCMSeriesFileNames(os.path.join(dicom_file_name, str(dicom_file_name)))\n",
    "    reader.SetFileNames(tmp_name)\n",
    "    image = reader.Execute()\n",
    "    sitk.WriteImage(image, dicom_file_name+'.nii.gz')\n",
    "\n",
    "    # decompress nii.gz file to nii file\n",
    "    with gzip.open(dicom_file_name+'.nii.gz', 'rb') as f_in:\n",
    "        with open(dicom_file_name+'.nii', 'wb') as f_out:\n",
    "            shutil.copyfileobj(f_in, f_out)\n",
    "            \n",
    "    # for demonstration for now, mask_file_1 and mask_file_2 are pre-uploaded files\n",
    "    cur_features_dic = {}\n",
    "    # get user input feature values\n",
    "    for box in ct_indices_boxes:\n",
    "        if box.children[0].value==0:\n",
    "            print('Please fill in all CT indices.')\n",
    "            break\n",
    "        else:\n",
    "            cur_features_dic[box.children[0].description[:-1]] = box.children[0].value\n",
    "            \n",
    "    \n",
    "    # extract features from mask-label.nrrd file\n",
    "    image_file = dicom_file_name+'.nii.gz'\n",
    "    mask_file_1 = dicom_file_name+'_mask-label.nrrd'\n",
    "    fv1 = extractor.execute(image_file, mask_file_1)\n",
    "    for feature in modeling_features_dic:\n",
    "        if modeling_features_dic[feature]['type'] == 'mask_label':\n",
    "            cur_features_dic[feature] = fv1[modeling_features_dic[feature]['name']]\n",
    "        \n",
    "\n",
    "    # extract features from pa.nrrd file\n",
    "    mask_file_2 = dicom_file_name+'_pa101.nrrd'\n",
    "    fv2 = extractor.execute(image_file, mask_file_2)\n",
    "    for feature in modeling_features_dic:\n",
    "        if modeling_features_dic[feature]['type'] == 'pa':\n",
    "            cur_features_dic[feature] = fv2[modeling_features_dic[feature]['name']]\n",
    "\n",
    "    # normalize features and compute result\n",
    "    cur_features_dic = normalize_features(cur_features_dic, modeling_features_dic)\n",
    "    modeling_result = joint_lr_model(cur_features_dic)\n",
    "    \n",
    "    # show result in result_text\n",
    "    result_text.value = modeling_result"
   ]
  },
  {
   "cell_type": "code",
   "execution_count": 14,
   "id": "adca5e06",
   "metadata": {},
   "outputs": [
    {
     "data": {
      "application/vnd.jupyter.widget-view+json": {
       "model_id": "958ccf89aca545618e35bd065cbcf149",
       "version_major": 2,
       "version_minor": 0
      },
      "text/plain": [
       "Button(description='Compute Result', icon='check', style=ButtonStyle())"
      ]
     },
     "metadata": {},
     "output_type": "display_data"
    }
   ],
   "source": [
    "display(action_button)"
   ]
  },
  {
   "cell_type": "code",
   "execution_count": 20,
   "id": "2824e335",
   "metadata": {},
   "outputs": [
    {
     "data": {
      "application/vnd.jupyter.widget-view+json": {
       "model_id": "88cd9eee135a48f3b0afdef17ae75801",
       "version_major": 2,
       "version_minor": 0
      },
      "text/plain": [
       "Text(value='', description='Probability: ', layout=Layout(width='500px'), placeholder='Computed Result Probabi…"
      ]
     },
     "metadata": {},
     "output_type": "display_data"
    }
   ],
   "source": [
    "display(result_text)"
   ]
  },
  {
   "cell_type": "code",
   "execution_count": 24,
   "id": "8587c2b2",
   "metadata": {},
   "outputs": [],
   "source": [
    "action_button.on_click(on_button_click)"
   ]
  },
  {
   "cell_type": "code",
   "execution_count": null,
   "id": "57613fcc",
   "metadata": {},
   "outputs": [],
   "source": []
  },
  {
   "cell_type": "code",
   "execution_count": null,
   "id": "d81d8249",
   "metadata": {},
   "outputs": [],
   "source": []
  }
 ],
 "metadata": {
  "kernelspec": {
   "display_name": "Python 3",
   "language": "python",
   "name": "python3"
  },
  "language_info": {
   "codemirror_mode": {
    "name": "ipython",
    "version": 3
   },
   "file_extension": ".py",
   "mimetype": "text/x-python",
   "name": "python",
   "nbconvert_exporter": "python",
   "pygments_lexer": "ipython3",
   "version": "3.8.5"
  }
 },
 "nbformat": 4,
 "nbformat_minor": 5
}
